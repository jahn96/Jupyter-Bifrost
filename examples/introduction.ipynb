{
 "cells": [
  {
   "cell_type": "markdown",
   "metadata": {},
   "source": [
    "# Introduction"
   ]
  },
  {
   "cell_type": "code",
   "execution_count": 6,
   "metadata": {},
   "outputs": [],
   "source": [
    "import bifrost_jupyter_extension\n",
    "import pandas as pd\n",
    "import numpy as np"
   ]
  },
  {
   "cell_type": "code",
   "execution_count": 7,
   "metadata": {},
   "outputs": [],
   "source": [
    "dist = np.random.uniform(0,1, size=(30,4))\n",
    "df = pd.DataFrame(dist, columns=[\"foo\",\"y\", \"bar\", \"baz\"])"
   ]
  },
  {
   "cell_type": "code",
   "execution_count": 9,
   "metadata": {},
   "outputs": [
    {
     "data": {
      "application/vnd.jupyter.widget-view+json": {
       "model_id": "f4a25f266f1c4ad590ea221af9ea30c5",
       "version_major": 2,
       "version_minor": 0
      },
      "text/plain": [
       "BifrostWidget(df_columns=['foo', 'y', 'bar', 'baz'], graph_data=[{'foo': 0.8113980026, 'y': 0.6123000457, 'bar…"
      ]
     },
     "metadata": {},
     "output_type": "display_data"
    }
   ],
   "source": [
    "res = df.bifrost.plot()"
   ]
  },
  {
   "cell_type": "code",
   "execution_count": null,
   "metadata": {},
   "outputs": [
    {
     "name": "stderr",
     "output_type": "stream",
     "text": [
      "cmd0.sc:1: not found: value get_ipython\n",
      "val res0 = get_ipython().__class__.__name__\n",
      "           ^Compilation Failed"
     ]
    },
    {
     "ename": "",
     "evalue": "",
     "output_type": "error",
     "traceback": [
      "Compilation Failed"
     ]
    }
   ],
   "source": [
    "get_ipython().__class__.__name__"
   ]
  },
  {
   "cell_type": "code",
   "execution_count": 2,
   "metadata": {},
   "outputs": [
    {
     "data": {
      "text/plain": [
       "6"
      ]
     },
     "execution_count": 2,
     "metadata": {},
     "output_type": "execute_result"
    }
   ],
   "source": [
    "3 + 3"
   ]
  },
  {
   "cell_type": "code",
   "execution_count": 10,
   "metadata": {},
   "outputs": [
    {
     "ename": "NameError",
     "evalue": "name 'Jupyter' is not defined",
     "output_type": "error",
     "traceback": [
      "\u001b[0;31m---------------------------------------------------------------------------\u001b[0m",
      "\u001b[0;31mNameError\u001b[0m                                 Traceback (most recent call last)",
      "\u001b[0;32m<ipython-input-10-905ceb155d96>\u001b[0m in \u001b[0;36m<module>\u001b[0;34m\u001b[0m\n\u001b[0;32m----> 1\u001b[0;31m \u001b[0mJupyter\u001b[0m\u001b[0;34m.\u001b[0m\u001b[0mnotebook\u001b[0m\u001b[0;34m.\u001b[0m\u001b[0mget_cells\u001b[0m\u001b[0;34m(\u001b[0m\u001b[0;34m)\u001b[0m\u001b[0;34m\u001b[0m\u001b[0;34m\u001b[0m\u001b[0m\n\u001b[0m",
      "\u001b[0;31mNameError\u001b[0m: name 'Jupyter' is not defined"
     ]
    }
   ],
   "source": [
    "Jupyter.notebook.get_cells()"
   ]
  },
  {
   "cell_type": "code",
   "execution_count": 9,
   "metadata": {},
   "outputs": [],
   "source": [
    "from importlib.metadata import entry_points"
   ]
  },
  {
   "cell_type": "code",
   "execution_count": 30,
   "metadata": {},
   "outputs": [
    {
     "data": {
      "text/plain": [
       "{'babel.checkers': (EntryPoint(name='num_plurals', value='babel.messages.checkers:num_plurals', group='babel.checkers'),\n",
       "  EntryPoint(name='python_format', value='babel.messages.checkers:python_format', group='babel.checkers')),\n",
       " 'babel.extractors': (EntryPoint(name='ignore', value='babel.messages.extract:extract_nothing', group='babel.extractors'),\n",
       "  EntryPoint(name='python', value='babel.messages.extract:extract_python', group='babel.extractors'),\n",
       "  EntryPoint(name='javascript', value='babel.messages.extract:extract_javascript', group='babel.extractors'),\n",
       "  EntryPoint(name='jinja2', value='jinja2.ext:babel_extract [i18n]', group='babel.extractors')),\n",
       " 'console_scripts': (EntryPoint(name='slugify', value='slugify.__main__:main', group='console_scripts'),\n",
       "  EntryPoint(name='jupyter-bundlerextension', value='notebook.bundler.bundlerextensions:main', group='console_scripts'),\n",
       "  EntryPoint(name='jupyter-nbextension', value='notebook.nbextensions:main', group='console_scripts'),\n",
       "  EntryPoint(name='jupyter-notebook', value='notebook.notebookapp:main', group='console_scripts'),\n",
       "  EntryPoint(name='jupyter-serverextension', value='notebook.serverextensions:main', group='console_scripts'),\n",
       "  EntryPoint(name='jupyter-kernel', value='jupyter_client.kernelapp:main', group='console_scripts'),\n",
       "  EntryPoint(name='jupyter-kernelspec', value='jupyter_client.kernelspecapp:KernelSpecApp.launch_instance', group='console_scripts'),\n",
       "  EntryPoint(name='jupyter-run', value='jupyter_client.runapp:RunApp.launch_instance', group='console_scripts'),\n",
       "  EntryPoint(name='pyjson5', value='json5.tool:main', group='console_scripts'),\n",
       "  EntryPoint(name='unidecode', value='unidecode.util:main', group='console_scripts'),\n",
       "  EntryPoint(name='pybabel', value='babel.messages.frontend:main', group='console_scripts'),\n",
       "  EntryPoint(name='f2py', value='numpy.f2py.f2py2e:main', group='console_scripts'),\n",
       "  EntryPoint(name='f2py3', value='numpy.f2py.f2py2e:main', group='console_scripts'),\n",
       "  EntryPoint(name='f2py3.9', value='numpy.f2py.f2py2e:main', group='console_scripts'),\n",
       "  EntryPoint(name='pygmentize', value='pygments.cmdline:main', group='console_scripts'),\n",
       "  EntryPoint(name='send2trash', value='send2trash.__main__:main', group='console_scripts'),\n",
       "  EntryPoint(name='cookiecutter', value='cookiecutter.__main__:main', group='console_scripts'),\n",
       "  EntryPoint(name='jupyter-nbclassic', value='nbclassic.notebookapp:main', group='console_scripts'),\n",
       "  EntryPoint(name='chardetect', value='chardet.cli.chardetect:main', group='console_scripts'),\n",
       "  EntryPoint(name='jsonschema', value='jsonschema.cli:main', group='console_scripts'),\n",
       "  EntryPoint(name='iptest', value='IPython.testing.iptestcontroller:main', group='console_scripts'),\n",
       "  EntryPoint(name='iptest3', value='IPython.testing.iptestcontroller:main', group='console_scripts'),\n",
       "  EntryPoint(name='ipython', value='IPython:start_ipython', group='console_scripts'),\n",
       "  EntryPoint(name='ipython3', value='IPython:start_ipython', group='console_scripts'),\n",
       "  EntryPoint(name='jupyter', value='jupyter_core.command:main', group='console_scripts'),\n",
       "  EntryPoint(name='jupyter-migrate', value='jupyter_core.migrate:main', group='console_scripts'),\n",
       "  EntryPoint(name='jupyter-troubleshoot', value='jupyter_core.troubleshoot:main', group='console_scripts'),\n",
       "  EntryPoint(name='wheel', value='wheel.cli:main', group='console_scripts'),\n",
       "  EntryPoint(name='pip', value='pip._internal.cli.main:main', group='console_scripts'),\n",
       "  EntryPoint(name='pip3', value='pip._internal.cli.main:main', group='console_scripts'),\n",
       "  EntryPoint(name='pip3.9', value='pip._internal.cli.main:main', group='console_scripts'),\n",
       "  EntryPoint(name='jupyter-nbconvert', value='nbconvert.nbconvertapp:main', group='console_scripts'),\n",
       "  EntryPoint(name='easy_install', value='setuptools.command.easy_install:main', group='console_scripts'),\n",
       "  EntryPoint(name='jupyter-server', value='jupyter_server.serverapp:main', group='console_scripts'),\n",
       "  EntryPoint(name='jupyter-trust', value='nbformat.sign:TrustNotebookApp.launch_instance', group='console_scripts'),\n",
       "  EntryPoint(name='jlpm', value='jupyterlab.jlpmapp:main', group='console_scripts'),\n",
       "  EntryPoint(name='jupyter-lab', value='jupyterlab.labapp:main', group='console_scripts'),\n",
       "  EntryPoint(name='jupyter-labextension', value='jupyterlab.labextensions:main', group='console_scripts'),\n",
       "  EntryPoint(name='jupyter-labhub', value='jupyterlab.labhubapp:main', group='console_scripts')),\n",
       " 'distutils.commands': (EntryPoint(name='compile_catalog', value='babel.messages.frontend:compile_catalog', group='distutils.commands'),\n",
       "  EntryPoint(name='extract_messages', value='babel.messages.frontend:extract_messages', group='distutils.commands'),\n",
       "  EntryPoint(name='init_catalog', value='babel.messages.frontend:init_catalog', group='distutils.commands'),\n",
       "  EntryPoint(name='update_catalog', value='babel.messages.frontend:update_catalog', group='distutils.commands'),\n",
       "  EntryPoint(name='bdist_wheel', value='wheel.bdist_wheel:bdist_wheel', group='distutils.commands'),\n",
       "  EntryPoint(name='alias', value='setuptools.command.alias:alias', group='distutils.commands'),\n",
       "  EntryPoint(name='bdist_egg', value='setuptools.command.bdist_egg:bdist_egg', group='distutils.commands'),\n",
       "  EntryPoint(name='bdist_rpm', value='setuptools.command.bdist_rpm:bdist_rpm', group='distutils.commands'),\n",
       "  EntryPoint(name='bdist_wininst', value='setuptools.command.bdist_wininst:bdist_wininst', group='distutils.commands'),\n",
       "  EntryPoint(name='build_clib', value='setuptools.command.build_clib:build_clib', group='distutils.commands'),\n",
       "  EntryPoint(name='build_ext', value='setuptools.command.build_ext:build_ext', group='distutils.commands'),\n",
       "  EntryPoint(name='build_py', value='setuptools.command.build_py:build_py', group='distutils.commands'),\n",
       "  EntryPoint(name='develop', value='setuptools.command.develop:develop', group='distutils.commands'),\n",
       "  EntryPoint(name='dist_info', value='setuptools.command.dist_info:dist_info', group='distutils.commands'),\n",
       "  EntryPoint(name='easy_install', value='setuptools.command.easy_install:easy_install', group='distutils.commands'),\n",
       "  EntryPoint(name='egg_info', value='setuptools.command.egg_info:egg_info', group='distutils.commands'),\n",
       "  EntryPoint(name='install', value='setuptools.command.install:install', group='distutils.commands'),\n",
       "  EntryPoint(name='install_egg_info', value='setuptools.command.install_egg_info:install_egg_info', group='distutils.commands'),\n",
       "  EntryPoint(name='install_lib', value='setuptools.command.install_lib:install_lib', group='distutils.commands'),\n",
       "  EntryPoint(name='install_scripts', value='setuptools.command.install_scripts:install_scripts', group='distutils.commands'),\n",
       "  EntryPoint(name='rotate', value='setuptools.command.rotate:rotate', group='distutils.commands'),\n",
       "  EntryPoint(name='saveopts', value='setuptools.command.saveopts:saveopts', group='distutils.commands'),\n",
       "  EntryPoint(name='sdist', value='setuptools.command.sdist:sdist', group='distutils.commands'),\n",
       "  EntryPoint(name='setopt', value='setuptools.command.setopt:setopt', group='distutils.commands'),\n",
       "  EntryPoint(name='test', value='setuptools.command.test:test', group='distutils.commands'),\n",
       "  EntryPoint(name='upload_docs', value='setuptools.command.upload_docs:upload_docs', group='distutils.commands')),\n",
       " 'distutils.setup_keywords': (EntryPoint(name='message_extractors', value='babel.messages.frontend:check_message_extractors', group='distutils.setup_keywords'),\n",
       "  EntryPoint(name='cffi_modules', value='cffi.setuptools_ext:cffi_modules', group='distutils.setup_keywords'),\n",
       "  EntryPoint(name='convert_2to3_doctests', value='setuptools.dist:assert_string_list', group='distutils.setup_keywords'),\n",
       "  EntryPoint(name='dependency_links', value='setuptools.dist:assert_string_list', group='distutils.setup_keywords'),\n",
       "  EntryPoint(name='eager_resources', value='setuptools.dist:assert_string_list', group='distutils.setup_keywords'),\n",
       "  EntryPoint(name='entry_points', value='setuptools.dist:check_entry_points', group='distutils.setup_keywords'),\n",
       "  EntryPoint(name='exclude_package_data', value='setuptools.dist:check_package_data', group='distutils.setup_keywords'),\n",
       "  EntryPoint(name='extras_require', value='setuptools.dist:check_extras', group='distutils.setup_keywords'),\n",
       "  EntryPoint(name='include_package_data', value='setuptools.dist:assert_bool', group='distutils.setup_keywords'),\n",
       "  EntryPoint(name='install_requires', value='setuptools.dist:check_requirements', group='distutils.setup_keywords'),\n",
       "  EntryPoint(name='namespace_packages', value='setuptools.dist:check_nsp', group='distutils.setup_keywords'),\n",
       "  EntryPoint(name='package_data', value='setuptools.dist:check_package_data', group='distutils.setup_keywords'),\n",
       "  EntryPoint(name='packages', value='setuptools.dist:check_packages', group='distutils.setup_keywords'),\n",
       "  EntryPoint(name='python_requires', value='setuptools.dist:check_specifier', group='distutils.setup_keywords'),\n",
       "  EntryPoint(name='setup_requires', value='setuptools.dist:check_requirements', group='distutils.setup_keywords'),\n",
       "  EntryPoint(name='test_loader', value='setuptools.dist:check_importable', group='distutils.setup_keywords'),\n",
       "  EntryPoint(name='test_runner', value='setuptools.dist:check_importable', group='distutils.setup_keywords'),\n",
       "  EntryPoint(name='test_suite', value='setuptools.dist:check_test_suite', group='distutils.setup_keywords'),\n",
       "  EntryPoint(name='tests_require', value='setuptools.dist:check_requirements', group='distutils.setup_keywords'),\n",
       "  EntryPoint(name='use_2to3', value='setuptools.dist:assert_bool', group='distutils.setup_keywords'),\n",
       "  EntryPoint(name='use_2to3_exclude_fixers', value='setuptools.dist:assert_string_list', group='distutils.setup_keywords'),\n",
       "  EntryPoint(name='use_2to3_fixers', value='setuptools.dist:assert_string_list', group='distutils.setup_keywords'),\n",
       "  EntryPoint(name='zip_safe', value='setuptools.dist:assert_bool', group='distutils.setup_keywords')),\n",
       " 'egg_info.writers': (EntryPoint(name='PKG-INFO', value='setuptools.command.egg_info:write_pkg_info', group='egg_info.writers'),\n",
       "  EntryPoint(name='dependency_links.txt', value='setuptools.command.egg_info:overwrite_arg', group='egg_info.writers'),\n",
       "  EntryPoint(name='depends.txt', value='setuptools.command.egg_info:warn_depends_obsolete', group='egg_info.writers'),\n",
       "  EntryPoint(name='eager_resources.txt', value='setuptools.command.egg_info:overwrite_arg', group='egg_info.writers'),\n",
       "  EntryPoint(name='entry_points.txt', value='setuptools.command.egg_info:write_entries', group='egg_info.writers'),\n",
       "  EntryPoint(name='namespace_packages.txt', value='setuptools.command.egg_info:overwrite_arg', group='egg_info.writers'),\n",
       "  EntryPoint(name='requires.txt', value='setuptools.command.egg_info:write_requirements', group='egg_info.writers'),\n",
       "  EntryPoint(name='top_level.txt', value='setuptools.command.egg_info:write_toplevel_names', group='egg_info.writers')),\n",
       " 'nbconvert.exporters': (EntryPoint(name='asciidoc', value='nbconvert.exporters:ASCIIDocExporter', group='nbconvert.exporters'),\n",
       "  EntryPoint(name='custom', value='nbconvert.exporters:TemplateExporter', group='nbconvert.exporters'),\n",
       "  EntryPoint(name='html', value='nbconvert.exporters:HTMLExporter', group='nbconvert.exporters'),\n",
       "  EntryPoint(name='latex', value='nbconvert.exporters:LatexExporter', group='nbconvert.exporters'),\n",
       "  EntryPoint(name='markdown', value='nbconvert.exporters:MarkdownExporter', group='nbconvert.exporters'),\n",
       "  EntryPoint(name='notebook', value='nbconvert.exporters:NotebookExporter', group='nbconvert.exporters'),\n",
       "  EntryPoint(name='pdf', value='nbconvert.exporters:PDFExporter', group='nbconvert.exporters'),\n",
       "  EntryPoint(name='python', value='nbconvert.exporters:PythonExporter', group='nbconvert.exporters'),\n",
       "  EntryPoint(name='rst', value='nbconvert.exporters:RSTExporter', group='nbconvert.exporters'),\n",
       "  EntryPoint(name='script', value='nbconvert.exporters:ScriptExporter', group='nbconvert.exporters'),\n",
       "  EntryPoint(name='slides', value='nbconvert.exporters:SlidesExporter', group='nbconvert.exporters'),\n",
       "  EntryPoint(name='webpdf', value='nbconvert.exporters:WebPDFExporter', group='nbconvert.exporters')),\n",
       " 'pandas_plotting_backends': (EntryPoint(name='matplotlib', value='pandas:plotting._matplotlib', group='pandas_plotting_backends'),),\n",
       " 'pygments.lexers': (EntryPoint(name='ipython', value='IPython.lib.lexers:IPythonLexer', group='pygments.lexers'),\n",
       "  EntryPoint(name='ipython3', value='IPython.lib.lexers:IPython3Lexer', group='pygments.lexers'),\n",
       "  EntryPoint(name='ipythonconsole', value='IPython.lib.lexers:IPythonConsoleLexer', group='pygments.lexers')),\n",
       " 'pytest11': (EntryPoint(name='anyio', value='anyio.pytest_plugin', group='pytest11'),),\n",
       " 'setuptools.finalize_distribution_options': (EntryPoint(name='2to3_doctests', value='setuptools.dist:Distribution._finalize_2to3_doctests', group='setuptools.finalize_distribution_options'),\n",
       "  EntryPoint(name='keywords', value='setuptools.dist:Distribution._finalize_setup_keywords', group='setuptools.finalize_distribution_options'),\n",
       "  EntryPoint(name='parent_finalize', value='setuptools.dist:_Distribution.finalize_options', group='setuptools.finalize_distribution_options')),\n",
       " 'setuptools.installation': (EntryPoint(name='eggsecutable', value='setuptools.command.easy_install:bootstrap', group='setuptools.installation'),)}"
      ]
     },
     "execution_count": 30,
     "metadata": {},
     "output_type": "execute_result"
    }
   ],
   "source": [
    "entry_points()"
   ]
  },
  {
   "cell_type": "code",
   "execution_count": null,
   "metadata": {},
   "outputs": [],
   "source": []
  }
 ],
 "metadata": {
  "kernelspec": {
   "display_name": "Python 3",
   "language": "python",
   "name": "python3"
  },
  "language_info": {
   "codemirror_mode": {
    "name": "ipython",
    "version": 3
   },
   "file_extension": ".py",
   "mimetype": "text/x-python",
   "name": "python",
   "nbconvert_exporter": "python",
   "pygments_lexer": "ipython3",
   "version": "3.9.5"
  }
 },
 "nbformat": 4,
 "nbformat_minor": 4
}
